{
 "cells": [
  {
   "cell_type": "markdown",
   "metadata": {},
   "source": [
    "<h1> Useful Packages for Data Science in Python </h1>\n",
    "\n",
    "<p>\n",
    "This walkthrough will take us through some of the most common and best interfacing Python packages for data scientists. It will also shallowly walk through the trickier and more useful parts of the Python language.\n",
    "</p>"
   ]
  },
  {
   "cell_type": "markdown",
   "metadata": {},
   "source": [
    "<h2> Class Objects </h2>\n",
    "\n",
    "<p>\n",
    "Much of Python's syntactic sugar is a consequence of being an object-oriented language. Object-oriented programming allows for the association of functions with classes of objects (generally) and specific instantiations of a class object in the form of class **methods**. It also allows for the association of different Python objects by allowing for multiple objects to be **attributes** of a class/class object. These are not necessary to know how to create, though they can be incredibly helpful and time-saving in writing code in Python. More importantly, understanding how these work will be necessary for understanding most Python modules and Python documentation.\n",
    "</p>"
   ]
  },
  {
   "cell_type": "code",
   "execution_count": 179,
   "metadata": {},
   "outputs": [
    {
     "name": "stdout",
     "output_type": "stream",
     "text": [
      "5.0\n",
      "True\n",
      "8.0\n",
      "True\n"
     ]
    }
   ],
   "source": [
    "## Define a new class\n",
    "class test_class:\n",
    "    ## Classes require an __init__ method for their generation. All other methods are optional. Note that all\n",
    "    ## variables and functions are currently being defined in the scope of the class, and not the global scope.\n",
    "    ## Lastly, note that attributes/methods of the class that can be accessed outside the scope of the class must\n",
    "    ## be defined using \"self\" syntax.\n",
    "    def __init__(self, value, name, personify=True):\n",
    "        self.value = value\n",
    "        if personify:\n",
    "            self.name = name\n",
    "        ## Can call other class methods from within a class method\n",
    "        self.here_I_am()\n",
    "    def here_I_am(self):\n",
    "        print(self.value)\n",
    "\n",
    "## Instantiate a new instance of this class\n",
    "test_instance = test_class(5.0, 'Hans')\n",
    "\n",
    "## Retroactively assign attribute to test_class class\n",
    "setattr(test_class, 'treble', True)\n",
    "## Note that the \"treble\" attribute can be accessed as an attribute of both the test_class class generally, and any\n",
    "## object of the test_class class initialized hereafter.\n",
    "print(test_class.treble)\n",
    "\n",
    "print(test_class(8.0, 'Charles').treble)"
   ]
  },
  {
   "cell_type": "markdown",
   "metadata": {},
   "source": [
    "<h2> Iterators </h2>\n",
    "\n",
    "<p>\n",
    "The trademark of Python as a programming language is its excessive \"syntactic sugar.\" While Python runs about fifty times slower than C for the same basic operations, what can be written in 100 lines of C can often be handled in ten lines or less of Python. One of the kinds of objects that contribute to this ease in writing is the iterator class. An iterator is never usually generated as a standalone object; rather, iterators are transiently generated from objects that have an ordered index, like an array and then deleted after the \"iteration\" it was made for is finished.\n",
    "</p>"
   ]
  },
  {
   "cell_type": "code",
   "execution_count": 153,
   "metadata": {
    "scrolled": true
   },
   "outputs": [
    {
     "name": "stdout",
     "output_type": "stream",
     "text": [
      "0\n",
      "1\n",
      "2\n",
      "3\n",
      "4\n",
      "\n",
      "\n",
      "26\n",
      "27\n",
      "28\n",
      "29\n",
      "30\n",
      "31\n",
      "\n",
      "\n",
      "methane\n",
      "ethane\n",
      "propane\n",
      "butane\n"
     ]
    }
   ],
   "source": [
    "\"\"\"\n",
    "Iterators most often appear when implementing \"for-in' syntax, which is of the form:\n",
    "\n",
    "    for <sub_obj> in <iterable_onj>:\n",
    "    \n",
    "where <iterable_obj> is something like a list, tuple, range object, NumPy array, etc. which has an ordered index.\n",
    "\"\"\"\n",
    "\n",
    "## Iterating over a range of integers; implemented using the \"range\" function. Note that the iterator begins at zero\n",
    "## (Python is zero-indexed) and ends at the integer immediately below the input integer.\n",
    "for j in range(5):\n",
    "    print(j)\n",
    "print('\\n')\n",
    "\n",
    "## Range can also support two integer inputs; \"range(m,n)\" allows for iteration over all integers j in the range\n",
    "## m <= j < n\n",
    "for k in range(26,32):\n",
    "    print(k)\n",
    "print('\\n')\n",
    "\n",
    "## Iterate over the items in a list; this is covered in greater depth later\n",
    "listt = ['meth', 'eth', 'prop', 'but']\n",
    "for word in listt:\n",
    "    print(word+'ane')"
   ]
  },
  {
   "cell_type": "code",
   "execution_count": 154,
   "metadata": {},
   "outputs": [
    {
     "name": "stdout",
     "output_type": "stream",
     "text": [
      "Will Smith: actor\n",
      "Jennifer Lopez: actress\n",
      "Matt Damon: actor\n",
      "Tom Hanks: actor\n",
      "\n",
      "\n",
      "Will: 0\n",
      "Jennifer: 1\n",
      "Matt: 2\n",
      "Tom: 3\n"
     ]
    }
   ],
   "source": [
    "## It is possible to iterate over the elements of multiple iterable objects at the same time. This is most often\n",
    "## implemented using the zip function. 'first' is a list, \n",
    "first = ['Will', 'Jennifer', 'Matt', 'Tom']\n",
    "last = ('Smith', 'Lopez', 'Damon', 'Hanks')\n",
    "role = ['actor', 'actress', 'actor', 'actor']\n",
    "\n",
    "for fir, la, rol in zip(first, last, role):\n",
    "    print(fir+' '+la+': '+rol)\n",
    "print('\\n')\n",
    "\n",
    "## Enumerate over the index of an iterable object and that object's elements\n",
    "for j, fir in enumerate(first):\n",
    "    print(fir+': '+str(j))"
   ]
  },
  {
   "cell_type": "markdown",
   "metadata": {},
   "source": [
    "<h2> Functions </h2>\n",
    "\n",
    "<h3> \"def\" syntax </h3>\n",
    "\n",
    "<p>\n",
    "**Python functions defined using def syntax can support \\*args and \\*\\*kwargs inputs. These are not covered here. Though they are very useful and worth looking into, they are not necessary to understand for the sake of reading and understanding most of Python documentation on the web.**\n",
    "</p>"
   ]
  },
  {
   "cell_type": "code",
   "execution_count": 149,
   "metadata": {},
   "outputs": [
    {
     "name": "stdout",
     "output_type": "stream",
     "text": [
      "Approved.\n",
      "\n",
      "(7.0, 'cabbage3.04.0')\n",
      "\n",
      "\n",
      "7.0\n",
      "cabbage3.04.0\n",
      "\n",
      "\n",
      "14.0\n",
      "35.0\n"
     ]
    }
   ],
   "source": [
    "## Define a function \"square\" with input argument x. x can be literally any Python object. If a function returns \n",
    "## errors based on the input object, it is due to the incompatability of the object with the operations performed \n",
    "## within the function. The multiline comments are not necessary, but allow for your function to be auto-documented\n",
    "## (see below).\n",
    "def square(x):\n",
    "    \"\"\"\n",
    "    This function returns the square of the input. Requires that the input be a float, int, NumPy array, or the\n",
    "    like.\n",
    "    \"\"\"\n",
    "    sqr = x**2\n",
    "    return sqr\n",
    "\n",
    "## Functions can have multiple arguments, and even multiple output arguments.\n",
    "def fun(x, y, word):\n",
    "    \"\"\"\n",
    "    Returns the sum of the numbers x and y, and the concatenation of the string word and the string typecasts of x\n",
    "    and y.\n",
    "    \"\"\"\n",
    "    return x+y, word+str(x)+str(y)\n",
    "\n",
    "## Functions can even have no input arguments, and no output arguments.\n",
    "def approval():\n",
    "    print('Approved.\\n')\n",
    "    \n",
    "## When a function is called without input arguments, it is called using a set of empty parenthesis like so:\n",
    "approval()\n",
    "\n",
    "## Functions can be called without catching their output:\n",
    "square(5.0)\n",
    "## Or whilst catching output. Note that the variable name used below is the same as a variable name used inside the\n",
    "## definition of \"square.\" Because sqr was only defined within the scope of the function above, by reusing the same\n",
    "## variable name here, I am not at all overriding any variable definitions as one variable was defined in the scope\n",
    "## of a function (above) and one was defined in the global scope (below).\n",
    "sqr = square(5.0)\n",
    "\n",
    "## When a function returns multiple outputs, the multiple arguments have to be caught in one of the following ways.\n",
    "\n",
    "## If caught using a single variable, that variable is initialized as a tuple containing all the function outputs.\n",
    "a = fun(3.0, 4.0, 'cabbage')\n",
    "print(a)\n",
    "print('\\n')\n",
    "\n",
    "## If caught using multiple variables, there must be as many variables as there are output arguments.\n",
    "num, new_word = fun(3.0, 4.0, 'cabbage')\n",
    "print(num)\n",
    "print(new_word)\n",
    "print('\\n')\n",
    "\n",
    "## If you do not wish to catch all output arguments, you can choose to not catch a specific variable by \"assigning\"\n",
    "## it to the \"_\" character\n",
    "_, new_word = fun(3.0, 4.0, 'cabbage')\n",
    "\n",
    "## For all intents and purposes, functions can be manipulated and moved around as variables. They can be elements of\n",
    "## tuples and lists, and can even be passed in as arguments to other functions. The following function takes a\n",
    "## function as input, and returns a new function as output.\n",
    "def cube_function(fun):\n",
    "    def new_function(x):\n",
    "        return fun(x)**3\n",
    "    return new_function\n",
    "\n",
    "## Function inputs can be assigned default values, such that they do not require an input argument. Notive that all\n",
    "## such arguments have to be defined, in the the function definition, after the non-defaulted arguments\n",
    "def number_string(base, power=2, co_summand=5.0, printt=True):\n",
    "    \"\"\"\n",
    "    Note that this function prints and has zero output arguments if printt is True, and does not print and has one\n",
    "    output argument if printt is False.\n",
    "    \"\"\"\n",
    "    numberstr = str(base**power+co_summand)\n",
    "    if not printt:\n",
    "        return numberstr\n",
    "    else:\n",
    "        print(numberstr)\n",
    "\n",
    "## Calling this function with different input combinations. Note that the inputs with defalt input arguments can be\n",
    "## input in any order.\n",
    "number_string(2.0, 3.0, 4.2, False)\n",
    "## Same as:\n",
    "number_string(2.0, power=3.0, co_summand=4.2, printt=False)\n",
    "## Same as:\n",
    "number_string(2.0, printt=False, co_summand=4.2, power=3.0)\n",
    "## Also valid:\n",
    "number_string(3.0)\n",
    "number_string(4.0, printt=False)\n",
    "number_string(5.0, co_summand=10)"
   ]
  },
  {
   "cell_type": "markdown",
   "metadata": {},
   "source": [
    "<h3> Anonymous (lambda) functions </h3>"
   ]
  },
  {
   "cell_type": "code",
   "execution_count": 150,
   "metadata": {
    "collapsed": true
   },
   "outputs": [],
   "source": [
    "## Lambda functions serve as quick, one-line ways of defining simple functions. You will see them a bit in Python\n",
    "## module documentation.\n",
    "\n",
    "## This function:\n",
    "def funn(x, y):\n",
    "    return x+y\n",
    "## is identical to this one:\n",
    "funn = lambda x,y: x+y\n",
    "\n",
    "## Same for these two:\n",
    "def funn2(x):\n",
    "    return x**2\n",
    "funn2 = lambda x: x**2"
   ]
  },
  {
   "cell_type": "markdown",
   "metadata": {},
   "source": [
    "<h3> Function Documentation </h3>\n",
    "\n",
    "<p>\n",
    "Often, nothing is more helpful than reading Python package tutorials and documentation online. However, one can access the documentation for a class initializer, class method, or a function using the \"help\" function.\n",
    "</p>"
   ]
  },
  {
   "cell_type": "code",
   "execution_count": 151,
   "metadata": {},
   "outputs": [
    {
     "name": "stdout",
     "output_type": "stream",
     "text": [
      "Help on function factorial in module scipy.special.basic:\n",
      "\n",
      "factorial(n, exact=False)\n",
      "    The factorial of a number or array of numbers.\n",
      "    \n",
      "    The factorial of non-negative integer `n` is the product of all\n",
      "    positive integers less than or equal to `n`::\n",
      "    \n",
      "        n! = n * (n - 1) * (n - 2) * ... * 1\n",
      "    \n",
      "    Parameters\n",
      "    ----------\n",
      "    n : int or array_like of ints\n",
      "        Input values.  If ``n < 0``, the return value is 0.\n",
      "    exact : bool, optional\n",
      "        If True, calculate the answer exactly using long integer arithmetic.\n",
      "        If False, result is approximated in floating point rapidly using the\n",
      "        `gamma` function.\n",
      "        Default is False.\n",
      "    \n",
      "    Returns\n",
      "    -------\n",
      "    nf : float or int or ndarray\n",
      "        Factorial of `n`, as integer or float depending on `exact`.\n",
      "    \n",
      "    Notes\n",
      "    -----\n",
      "    For arrays with ``exact=True``, the factorial is computed only once, for\n",
      "    the largest input, with each other result computed in the process.\n",
      "    The output dtype is increased to ``int64`` or ``object`` if necessary.\n",
      "    \n",
      "    With ``exact=False`` the factorial is approximated using the gamma\n",
      "    function:\n",
      "    \n",
      "    .. math:: n! = \\Gamma(n+1)\n",
      "    \n",
      "    Examples\n",
      "    --------\n",
      "    >>> from scipy.special import factorial\n",
      "    >>> arr = np.array([3, 4, 5])\n",
      "    >>> factorial(arr, exact=False)\n",
      "    array([   6.,   24.,  120.])\n",
      "    >>> factorial(arr, exact=True)\n",
      "    array([  6,  24, 120])\n",
      "    >>> factorial(5, exact=True)\n",
      "    120L\n",
      "\n"
     ]
    }
   ],
   "source": [
    "## See documentation for SciPy's factorial implementation. Note that a function name, without the parentheses after\n",
    "## the function name, refers to the function as a Python object, and not as a call to the function.\n",
    "from scipy.special import factorial\n",
    "help(factorial)"
   ]
  },
  {
   "cell_type": "code",
   "execution_count": 152,
   "metadata": {},
   "outputs": [
    {
     "name": "stdout",
     "output_type": "stream",
     "text": [
      "Help on function square in module __main__:\n",
      "\n",
      "square(x)\n",
      "    This function returns the square of the input. Requires that the input be a float, int, NumPy array, or the\n",
      "    like.\n",
      "\n",
      "Help on function fun in module __main__:\n",
      "\n",
      "fun(x, y, word)\n",
      "    Returns the sum of the numbers x and y, and the concatenation of the string word and the string typecasts of x\n",
      "    and y.\n",
      "\n"
     ]
    }
   ],
   "source": [
    "## See documentation on our functions defined above\n",
    "help(square)\n",
    "help(fun)"
   ]
  },
  {
   "cell_type": "markdown",
   "metadata": {},
   "source": [
    "<h3> Passing objects of mutable type into functions </h3>\n",
    "\n",
    "<p>\n",
    "If a mutable object is input into a function, the operations that are applied to the object within the function permanently alter the object, even outside the scope of the function. For this reason, the \"copy\" method of mutable objects becomes very handy when calling functions on mutable objects.\n",
    "</p>"
   ]
  },
  {
   "cell_type": "code",
   "execution_count": 178,
   "metadata": {},
   "outputs": [
    {
     "name": "stdout",
     "output_type": "stream",
     "text": [
      "['x', 'y', 'z', 'a']\n",
      "['x', 'y', 'z', 'a', 'a']\n",
      "['x', 'y', 'z', 'a', 'a', 'a']\n",
      "['x', 'y', 'z', 'a', 'a', 'a', 'a']\n",
      "['x', 'y', 'z', 'a', 'a', 'a', 'a', 'a']\n",
      "\n",
      "\n",
      "['x', 'y', 'z', 'a']\n",
      "['x', 'y', 'z', 'a']\n",
      "['x', 'y', 'z', 'a']\n",
      "['x', 'y', 'z', 'a']\n",
      "['x', 'y', 'z', 'a']\n"
     ]
    }
   ],
   "source": [
    "## Define function that appends a letter to a list\n",
    "listt = ['x', 'y', 'z']\n",
    "def appender(listtt):\n",
    "    listtt.append('a')\n",
    "    print(listtt)\n",
    "for _ in range(5):\n",
    "    appender(listt)\n",
    "print('\\n')\n",
    "\n",
    "## Now using the copy method:\n",
    "listt = ['x', 'y', 'z']\n",
    "def appender(listtt):\n",
    "    lizt = listtt.copy()\n",
    "    lizt.append('a')\n",
    "    print(lizt)\n",
    "for _ in range(5):\n",
    "    appender(listt)"
   ]
  },
  {
   "cell_type": "markdown",
   "metadata": {},
   "source": [
    "<h2> Lists and Tuples </h2>\n",
    "\n",
    "<p>\n",
    "Lists and tuples are Python's primary array implementation. Though NumPy arrays and Pandas DataFrames can also handle diverse data types, lists and tuples, at the expense of limited methods and integer indexing, make up for their simplicity in being relatively lightweight and greater permissivity in the handling of input objects.\n",
    "</p>"
   ]
  },
  {
   "cell_type": "code",
   "execution_count": 155,
   "metadata": {},
   "outputs": [
    {
     "name": "stdout",
     "output_type": "stream",
     "text": [
      "a\n",
      "b\n",
      "c\n",
      "3\n",
      "True\n",
      "\n",
      "\n",
      "('a', 'b', 'c', 'c', 'd')\n",
      "['a', 'b', 'c', 'x', 'y', 'z']\n"
     ]
    }
   ],
   "source": [
    "## Note that the misspellings below are necessary. Else, I would overwrite the typecasting/initializing functions\n",
    "## \"list\" and \"tuple\" from native Python.\n",
    "\n",
    "## Generate a list using \"[ ]\"\n",
    "listt = ['a', 'b', 'c']\n",
    "## Generate a tuple using \"( )\"\n",
    "toople = ('a', 'b', 'c')\n",
    "\n",
    "## Access the first element of listt and the second and third of toople. Notice that Python is a zero-indexed\n",
    "## language.\n",
    "print(listt[0])\n",
    "print(toople[1])\n",
    "print(toople[2])\n",
    "\n",
    "## Get the length of a list/tuple returned as an int\n",
    "print(len(listt))\n",
    "print(len(listt) == len(toople))\n",
    "print('\\n')\n",
    "\n",
    "## The \"+\" operator is overwritten for lists and tuples, to indicate creating a new list/tuple that is the\n",
    "## concatenation of the first two\n",
    "letters = toople + ('c', 'd')\n",
    "more_letters = listt + ['x', 'y', 'z']\n",
    "print(letters)\n",
    "print(more_letters)"
   ]
  },
  {
   "cell_type": "code",
   "execution_count": 156,
   "metadata": {},
   "outputs": [
    {
     "name": "stdout",
     "output_type": "stream",
     "text": [
      "a\n",
      "b\n",
      "c\n",
      "a\n",
      "b\n",
      "c\n",
      "['methyl', 'ethyl', 'methyl', 'ethyl', 'methyl', 'ethyl', 'methyl', 'ethyl', 'methyl', 'ethyl', 'methyl', 'ethyl']\n",
      "('propyl', 'butyl', 'propyl', 'butyl')\n"
     ]
    }
   ],
   "source": [
    "## It is possible to iterate over the objects in a list/tuple without explicitly referring to the list/tuple's index\n",
    "## This...\n",
    "for j in range(len(listt)):\n",
    "    print(listt[j])\n",
    "\n",
    "## ...is equivalent to:\n",
    "for letter in listt:\n",
    "    print(letter)\n",
    "    \n",
    "## The \"*\" operator is specially interpreted in the case of lists and tuples to indicate the repetition of the\n",
    "## list/tuple\n",
    "a = ['methyl', 'ethyl']\n",
    "print(a*6)\n",
    "b = ('propyl', 'butyl')*2\n",
    "print(b)"
   ]
  },
  {
   "cell_type": "markdown",
   "metadata": {},
   "source": [
    "<h3> List/tuple comprehensions </h3>\n",
    "\n",
    "<p>\n",
    "In Python, there exists syntax which allows for the easy creation of a list or tuple from the elements of a pre-existing iterable (integer-indexed) object. Knowing how to implement these is not only very useful for cutting down time spent writing code; it is also necessary for reading a good deal of Python documenation on the web.\n",
    "</p>"
   ]
  },
  {
   "cell_type": "code",
   "execution_count": 157,
   "metadata": {},
   "outputs": [],
   "source": [
    "## Generate a list of random numbers between 0.0 and 1.0 using NumPy\n",
    "from numpy import random, log10\n",
    "noise = random.rand(100)\n",
    "## Create a list of the common logarithms of these random numbers\n",
    "comLogs = [log10(num) for num in noise]\n",
    "\n",
    "## Create a tuple of the common logarithms of the numbers in noise THAT ARE SMALLER THAN 0.5.\n",
    "## Notice that the parentheses alone are not interpreted as the generation of a tuple; the verbose \"tuple\" function\n",
    "## has to be used.\n",
    "some_comLogs = tuple(log10(num) for num in noise if num < 0.5)"
   ]
  },
  {
   "cell_type": "markdown",
   "metadata": {},
   "source": [
    "<h3> Mutability </h3>\n",
    "\n",
    "<p>\n",
    "The biggest difference between lists and tuples is that lists are **mutable**, while tuples are **immutable**. Once a tuple is initialized, the object cannot at all be changed. This allows the tuple to be used in certain scenarios where constancy is crucial, such as in the keys of a Python dictionary (see below). Lists, on the other hand, can be changed; the object at any given index can be replaced, an object can be removed or inserted, etc. Certain properties of lists that demonstrate their immutability are shown below.\n",
    "</p>"
   ]
  },
  {
   "cell_type": "code",
   "execution_count": 158,
   "metadata": {},
   "outputs": [
    {
     "name": "stdout",
     "output_type": "stream",
     "text": [
      "['a', 'b', 'c']\n",
      "['a', 'b', 'c', 'd']\n",
      "['a', 'b', {}, 'c', 'd']\n",
      "['a', {}, 'c', 'd']\n",
      "popped: b\n",
      "\n",
      "\n",
      "['a', {}, 'c', 'd', 'extra']\n",
      "\n",
      "\n",
      "['a', {}, 'c', 'd', 'extra']\n"
     ]
    }
   ],
   "source": [
    "## Generate list\n",
    "listt = ['a', 'b', 'c']\n",
    "print(listt)\n",
    "## append to list\n",
    "listt.append('d')\n",
    "print(listt)\n",
    "## insert object at index 2 of list\n",
    "listt.insert(2, {})\n",
    "print(listt)\n",
    "## remove object as index 1 of list. Notice that the \"pop\" method \n",
    "popped = listt.pop(1)\n",
    "print(listt)\n",
    "print('popped: '+str(popped))\n",
    "print('\\n')\n",
    "\n",
    "## If I initialize listt2 as equal to listt, what actually happens is that listt2 and listt are both interpreted to\n",
    "## point to the same object in physical memory. This is not the case for tuples, ints, floats, and other immutable\n",
    "## typles. So, if I initialize listt2 as equal to listt...\n",
    "listt2 = listt\n",
    "## ...and make modifications to listt2...\n",
    "listt2.append('extra')\n",
    "## ...because listt2 and listt both point to the same object in physical memory, they are both altered.\n",
    "print(listt)\n",
    "print('\\n')\n",
    "\n",
    "## Fortunately, all mutable types offered in native Python boast a \"copy\" method, which allows for the mutable\n",
    "## object to actually be duplicated. This duplicate can be modified without affecting the original object.\n",
    "listt3 = listt.copy()\n",
    "listt3.append('also_extra')\n",
    "print(listt)"
   ]
  },
  {
   "cell_type": "markdown",
   "metadata": {},
   "source": [
    "<h2> Dictionaries </h2>\n",
    "\n",
    "<p>\n",
    "Dictionaries are the built-in Python implementation of a hash table. Dictionaries consist of **items** and **keys**. An item is inserted into the dictionary using a key, such that the item can be called from the dictionary using the key. Generally, it is computationally expensive to initialize or modify a dictionary, at least relative to lists, tuples, and the like. The utility in using them, however, lies in that dictionaries allow you to access items stores in them in *O(1)* time. It makes searching for the item you are looking for much faster than having to iterate over the indices of lists and tuples.\n",
    "</p>"
   ]
  },
  {
   "cell_type": "code",
   "execution_count": 159,
   "metadata": {},
   "outputs": [
    {
     "name": "stdout",
     "output_type": "stream",
     "text": [
      "dict_keys(['key3', (1, 4, 9, 16, 25, 36, 49, 64, 81, 100), 'Promethius', 'key0', 'key1', 'key2', 'key', 'key4', 78.9])\n"
     ]
    }
   ],
   "source": [
    "## Initialize empty dictionary:\n",
    "book = dict()\n",
    "## or, equivalently,\n",
    "book = {}\n",
    "\n",
    "## Items are inserted into the dictionary in the following manner\n",
    "key = 'key'\n",
    "item = 'item'\n",
    "book[key] = item\n",
    "\n",
    "## Dictionary items can be any Python onject, including class objects introduced by imported packages or the user.\n",
    "## Dictionary keys, however, cannot be any time of object. They have to be objects of immutable type (see \"Lists\n",
    "## and Tuples\" above). What this implies practically is that if you can't currently use the native Python object you\n",
    "## want as a dictionary key, you can always typecast it into a native object that can be used as a key.\n",
    "\n",
    "## Can't be used as a dictionary key\n",
    "squares = [j**2 for j in range(1,11)]\n",
    "## Can be used as a dictionary key\n",
    "cubes = (j**3 for j in range(11))\n",
    "## Typecast squares to a tuple so it can be used as a dictionary key\n",
    "square_tuple = tuple(squares)\n",
    "\n",
    "## Show off the versatility of dictionaries by inserting keys and items of various type\n",
    "book[square_tuple] = squares\n",
    "book['Promethius'] = 'bad movie'\n",
    "book[78.9] = {}\n",
    "for j in range(5):\n",
    "    book['key'+str(j)] = j+5\n",
    "\n",
    "## Get list of all dictionary keys. Note that these keys are NOT in the order in which we inserted them.\n",
    "## Dictionary keys are ordered randomly, as hash maps depend on randomization to enable O(1) amortized runtime of \n",
    "## finding items.\n",
    "print(book.keys())"
   ]
  },
  {
   "cell_type": "code",
   "execution_count": 160,
   "metadata": {},
   "outputs": [
    {
     "name": "stdout",
     "output_type": "stream",
     "text": [
      "dict_items([('key3', 8), ((1, 4, 9, 16, 25, 36, 49, 64, 81, 100), [1, 4, 9, 16, 25, 36, 49, 64, 81, 100]), ('Promethius', 'bad movie'), ('key0', 5), ('key1', 6), ('key2', 7), ('key', 'item'), ('key4', 9), (78.9, {})])\n"
     ]
    }
   ],
   "source": [
    "## Get all key-item pairs in the dictionary\n",
    "print(book.items())"
   ]
  },
  {
   "cell_type": "code",
   "execution_count": 161,
   "metadata": {},
   "outputs": [
    {
     "ename": "KeyError",
     "evalue": "'missing'",
     "output_type": "error",
     "traceback": [
      "\u001b[0;31m---------------------------------------------------------------------------\u001b[0m",
      "\u001b[0;31mKeyError\u001b[0m                                  Traceback (most recent call last)",
      "\u001b[0;32m<ipython-input-161-decbe486ce30>\u001b[0m in \u001b[0;36m<module>\u001b[0;34m()\u001b[0m\n\u001b[1;32m      1\u001b[0m \u001b[0;31m## Trying to return the value of a key you have not set yet raises a KeyError\u001b[0m\u001b[0;34m\u001b[0m\u001b[0;34m\u001b[0m\u001b[0m\n\u001b[0;32m----> 2\u001b[0;31m \u001b[0mbook\u001b[0m\u001b[0;34m[\u001b[0m\u001b[0;34m'missing'\u001b[0m\u001b[0;34m]\u001b[0m\u001b[0;34m\u001b[0m\u001b[0m\n\u001b[0m",
      "\u001b[0;31mKeyError\u001b[0m: 'missing'"
     ]
    }
   ],
   "source": [
    "## Trying to return the value of a key you have not set yet raises a KeyError\n",
    "book['missing']"
   ]
  },
  {
   "cell_type": "code",
   "execution_count": 162,
   "metadata": {},
   "outputs": [
    {
     "name": "stdout",
     "output_type": "stream",
     "text": [
      "dict_items([('susan', 0.54749716225056855), ('tom', -0.88496032238588229), ('valerie', -0.72388660769207702), ('donald', -0.55601910065312399), ('john', -1.2695674020765195)])\n"
     ]
    }
   ],
   "source": [
    "## You can construct dictionaries using two iterable objects using the zip function\n",
    "from numpy.random import randn\n",
    "noise = randn(5)\n",
    "names = ['john', 'tom', 'valerie', 'donald', 'susan']\n",
    "book2 = dict(zip(names,noise))\n",
    "print(book2.items())"
   ]
  },
  {
   "cell_type": "markdown",
   "metadata": {},
   "source": [
    "<h2> NumPy (Numerical Python) and SciPy </h2>\n",
    "\n",
    "<p>\n",
    "<a href=\"https://docs.scipy.org/doc/\">NumPy</a> is a great package for any and all manipulation of tensors and numbers. The package consists of many modules that might be useful for a given project, but what is most important about this package is its implementation of tensors (arrays). NumPy arrays are generally the fastest way to store numerical values, considering both array generation time and value access time. They are also one of the most commonly used Pythonic data structures outside native Python, and so are sometimes necessary to interface with other Python modules. <br/> <br/>\n",
    "\n",
    "<a href=\"https://docs.scipy.org/doc/\">SciPy</a> can be thought of as an extension to NumPy. While it boasts functions which span more statistical applications than NumPy, many of these functions are dependent upon input of NumPy array type.\n",
    "</p>"
   ]
  },
  {
   "cell_type": "code",
   "execution_count": 164,
   "metadata": {
    "collapsed": true
   },
   "outputs": [],
   "source": [
    "import numpy as np"
   ]
  },
  {
   "cell_type": "markdown",
   "metadata": {},
   "source": [
    "<h3> Generate tensors of arbitrary degree. </h3>"
   ]
  },
  {
   "cell_type": "code",
   "execution_count": 165,
   "metadata": {},
   "outputs": [
    {
     "name": "stdout",
     "output_type": "stream",
     "text": [
      "(3, 5)\n",
      "15\n",
      "3\n",
      "\n",
      "\n",
      "(6,)\n",
      "(4, 6)\n"
     ]
    }
   ],
   "source": [
    "## Create a 5-vector of zeros\n",
    "a = np.zeros(5)\n",
    "## Create a 3x5 matrix of zeros\n",
    "A = np.zeros((3,5))\n",
    "## Create a 3x4x5x6 4-tensor of ones\n",
    "AA = np.ones((3,4,5,6))\n",
    "\n",
    "## Multiply a tensor by a number\n",
    "B = 5.0*A\n",
    "## Add a number to each element of a tensor\n",
    "B = 5.0+A\n",
    "## Add two tensors of identical shape together\n",
    "C = A+B\n",
    "\n",
    "## The shape attribute of NumPy arrays describes the degree of the tensor, as well as each degree's dimensionality.\n",
    "## The size attribute tells the total number of elements in the tensor. Calling the function \"len\" on a NumPy array\n",
    "## returns the dimensionality of the tensor's first degree.\n",
    "print(C.shape)\n",
    "print(C.size)\n",
    "print(len(C))\n",
    "print('\\n')\n",
    "\n",
    "## It is possible, and sometimes helpful, to generate NumPy arrays from lists.\n",
    "prerow = [j for j in range(6)]\n",
    "row = np.array(prerow)\n",
    "print(row.shape)\n",
    "prematr = [[j for j in range(6)]]*4\n",
    "matr = np.array(prematr)\n",
    "print(matr.shape)"
   ]
  },
  {
   "cell_type": "markdown",
   "metadata": {},
   "source": [
    "<h3> Matrix Operations </h3>\n",
    "\n",
    "<p>\n",
    "Operations between NumPy arrays default to elementwise operations. To perform matrix operations, specific functions from NumPy or SciPy have to be implemented.\n",
    "</p>"
   ]
  },
  {
   "cell_type": "code",
   "execution_count": 166,
   "metadata": {},
   "outputs": [
    {
     "name": "stdout",
     "output_type": "stream",
     "text": [
      "[[  0.   4.]\n",
      " [  8.  12.]\n",
      " [ 16.  20.]]\n",
      "\n",
      "\n",
      "[ 0.  4.  8.]\n",
      "\n",
      "\n",
      "[[ 2.71828183  0.          0.        ]\n",
      " [ 0.          2.71828183  0.        ]\n",
      " [ 0.          0.          2.71828183]]\n"
     ]
    }
   ],
   "source": [
    "## Take the dot (matrix) product of two arrays\n",
    "## 3x3 identity matrix, times 4.0\n",
    "I = 4.0*np.eye(3)\n",
    "## 3x2 matrix; the reshape method returns an array of shape (3,2) by iterating the indices of the original array in\n",
    "## order\n",
    "A = np.array([j for j in range(6)]).reshape((3,2))\n",
    "C = np.dot(I,A)\n",
    "print(C)\n",
    "print('\\n')\n",
    "\n",
    "## Dot product of I and a vector\n",
    "print(np.dot(I,np.array([j for j in range(3)])))\n",
    "print('\\n')\n",
    "\n",
    "## Matrix exponential of the 3x3 identity matrix\n",
    "from scipy.linalg import expm\n",
    "print(expm(np.eye(3)))"
   ]
  },
  {
   "cell_type": "markdown",
   "metadata": {},
   "source": [
    "<h2> Pandas </h2>\n",
    "\n",
    "<p>\n",
    "The most popular platform for tabulated data structures (primarily, pandas.DataFrame and pandas.Series objects). Interfaces very well with NumPy, and can be used to easily generate NumPy arrays from Pandas DataFrames. <a href=\"http://pandas.pydata.org/\">Pandas</a> tabulated structures make for very quick writing of Python on the human end, but operate using an indexing scheme that runs much slower than the scheme used for NumPy arrays. It is advised to use Pandas for things like making figures for publications, or for generating NumPy arrays from .csv files at the start of an MCMC simulation. <br/> <br/>\n",
    "\n",
    "**Note that Pandas DataFrames/Series are mutable data types. Because Jupyter notebooks run as a single Python session, from a single kernel that can only be restarted manually (see the kernel tab at the top of the notebook), you will have to try and go through the Pandas portion of this notebook linearly. Jumping out of order between cells in this part of the notebook will likely cause a lot of errors to be thrown.**\n",
    "</p>"
   ]
  },
  {
   "cell_type": "code",
   "execution_count": 167,
   "metadata": {
    "collapsed": true
   },
   "outputs": [],
   "source": [
    "import pandas as pd\n",
    "import numpy as np"
   ]
  },
  {
   "cell_type": "markdown",
   "metadata": {},
   "source": [
    "<h3> Generate Pandas DataFrame from NumPy arrays </h3>"
   ]
  },
  {
   "cell_type": "code",
   "execution_count": 168,
   "metadata": {},
   "outputs": [
    {
     "name": "stdout",
     "output_type": "stream",
     "text": [
      "         0         1         2         3         4         5         6   \\\n",
      "0  0.849432  0.759391  0.407645  0.483247  0.442975  0.832181  0.362157   \n",
      "1  0.440911  0.322243  0.739795  0.111783  0.563349  0.324110  0.838508   \n",
      "2  0.778631  0.014049  0.724021  0.112391  0.552409  0.027593  0.581519   \n",
      "3  0.796457  0.039300  0.372154  0.992089  0.563488  0.636457  0.730779   \n",
      "4  0.736914  0.173529  0.405944  0.870869  0.033657  0.963024  0.739559   \n",
      "\n",
      "         7         8         9         10        11        12        13  \\\n",
      "0  0.777904  0.970598  0.852417  0.073762  0.644564  0.074347  0.961431   \n",
      "1  0.615184  0.197405  0.967027  0.387898  0.770207  0.607748  0.023078   \n",
      "2  0.811544  0.261400  0.970310  0.298188  0.304584  0.727953  0.602061   \n",
      "3  0.970794  0.098488  0.626079  0.782566  0.037819  0.845896  0.358908   \n",
      "4  0.940630  0.911218  0.471237  0.435394  0.085970  0.123525  0.054743   \n",
      "\n",
      "         14        15        16        17        18        19  \n",
      "0  0.374813  0.787383  0.431750  0.828225  0.786857  0.481740  \n",
      "1  0.345216  0.394744  0.286500  0.497793  0.008125  0.698064  \n",
      "2  0.553236  0.972256  0.439532  0.361728  0.544678  0.638010  \n",
      "3  0.766832  0.239746  0.418213  0.514652  0.212315  0.573292  \n",
      "4  0.188917  0.620572  0.160770  0.322543  0.038343  0.889319  \n"
     ]
    }
   ],
   "source": [
    "## Generate a 2-D array of random numbers\n",
    "array = np.random.rand(5, 20)\n",
    "## Create pandas.DataFrame object from 2-D array; can also be done with 1-D arrays\n",
    "frame = pd.DataFrame(array)\n",
    "print(frame)"
   ]
  },
  {
   "cell_type": "markdown",
   "metadata": {},
   "source": [
    "<h3> General DataFrame Properties </h3>"
   ]
  },
  {
   "cell_type": "code",
   "execution_count": 169,
   "metadata": {},
   "outputs": [
    {
     "name": "stdout",
     "output_type": "stream",
     "text": [
      "RangeIndex(start=0, stop=5, step=1)\n"
     ]
    }
   ],
   "source": [
    "## All DataFrames have an index (the \"label-less\" column to the far left in the output above)\n",
    "print(frame.index)"
   ]
  },
  {
   "cell_type": "code",
   "execution_count": 170,
   "metadata": {},
   "outputs": [
    {
     "name": "stdout",
     "output_type": "stream",
     "text": [
      "   iteration         0         1         2         3         4         5  \\\n",
      "0          0  0.849432  0.759391  0.407645  0.483247  0.442975  0.832181   \n",
      "1          1  0.440911  0.322243  0.739795  0.111783  0.563349  0.324110   \n",
      "2          2  0.778631  0.014049  0.724021  0.112391  0.552409  0.027593   \n",
      "3          3  0.796457  0.039300  0.372154  0.992089  0.563488  0.636457   \n",
      "4          4  0.736914  0.173529  0.405944  0.870869  0.033657  0.963024   \n",
      "\n",
      "          6         7         8    ...           10        11        12  \\\n",
      "0  0.362157  0.777904  0.970598    ...     0.073762  0.644564  0.074347   \n",
      "1  0.838508  0.615184  0.197405    ...     0.387898  0.770207  0.607748   \n",
      "2  0.581519  0.811544  0.261400    ...     0.298188  0.304584  0.727953   \n",
      "3  0.730779  0.970794  0.098488    ...     0.782566  0.037819  0.845896   \n",
      "4  0.739559  0.940630  0.911218    ...     0.435394  0.085970  0.123525   \n",
      "\n",
      "         13        14        15        16        17        18        19  \n",
      "0  0.961431  0.374813  0.787383  0.431750  0.828225  0.786857  0.481740  \n",
      "1  0.023078  0.345216  0.394744  0.286500  0.497793  0.008125  0.698064  \n",
      "2  0.602061  0.553236  0.972256  0.439532  0.361728  0.544678  0.638010  \n",
      "3  0.358908  0.766832  0.239746  0.418213  0.514652  0.212315  0.573292  \n",
      "4  0.054743  0.188917  0.620572  0.160770  0.322543  0.038343  0.889319  \n",
      "\n",
      "[5 rows x 21 columns]\n"
     ]
    }
   ],
   "source": [
    "## This index can be renamed, and even made into a new column using the reset_index method\n",
    "frame.index.name = 'iteration'\n",
    "frame.reset_index(inplace=True)\n",
    "print(frame)"
   ]
  },
  {
   "cell_type": "code",
   "execution_count": 171,
   "metadata": {},
   "outputs": [
    {
     "name": "stdout",
     "output_type": "stream",
     "text": [
      "Index(['iteration',           0,           1,           2,           3,\n",
      "                 4,           5,           6,           7,           8,\n",
      "                 9,          10,          11,          12,          13,\n",
      "                14,          15,          16,          17,          18,\n",
      "                19],\n",
      "      dtype='object')\n"
     ]
    }
   ],
   "source": [
    "## The columns in a Pandas DataFrame are ordered, and so the (ordered) names of these columns can be accessed as a\n",
    "## list through the DataFrame's columns attribute.\n",
    "print(frame.columns)"
   ]
  },
  {
   "cell_type": "code",
   "execution_count": 172,
   "metadata": {},
   "outputs": [
    {
     "name": "stdout",
     "output_type": "stream",
     "text": [
      "Index(['iter', 'a', 'b', 'c', 'd', 'e', 'f', 'g', 'h', 'i', 'j', 'k', 'l', 'm',\n",
      "       'n', 'o', 'p', 'q', 'r', 's', 't'],\n",
      "      dtype='object')\n"
     ]
    }
   ],
   "source": [
    "## Pandas allows for the column names to be reset easily using \"=\". As long as the object used to rename the columns\n",
    "## is iterable, and of the same length as the current list of columns, Pandas will typecast a copy of the object\n",
    "## into the Index type to use as column names.\n",
    "frame.columns = ['iter']+[chr(num+97) for num in range(20)]\n",
    "print(frame.columns)"
   ]
  },
  {
   "cell_type": "code",
   "execution_count": 173,
   "metadata": {},
   "outputs": [
    {
     "name": "stdout",
     "output_type": "stream",
     "text": [
      "0    0.786857\n",
      "1    0.008125\n",
      "2    0.544678\n",
      "3    0.212315\n",
      "4    0.038343\n",
      "Name: s, dtype: float64\n"
     ]
    }
   ],
   "source": [
    "## Access column by column name; very similar to dictionary syntax. This returns a Series object. Series objects are\n",
    "## by and large incredibly similar to DataFrames, with many of the same attributes and methods. The differences\n",
    "## between them will not be discussed in this tutorial.\n",
    "print(frame['s'])"
   ]
  },
  {
   "cell_type": "code",
   "execution_count": 174,
   "metadata": {},
   "outputs": [
    {
     "name": "stdout",
     "output_type": "stream",
     "text": [
      "   iter         d         e         f         g         h         i         j  \\\n",
      "0     0  0.483247  0.442975  0.832181  0.362157  0.777904  0.970598  0.852417   \n",
      "1     1  0.111783  0.563349  0.324110  0.838508  0.615184  0.197405  0.967027   \n",
      "2     2  0.112391  0.552409  0.027593  0.581519  0.811544  0.261400  0.970310   \n",
      "3     3  0.992089  0.563488  0.636457  0.730779  0.970794  0.098488  0.626079   \n",
      "4     4  0.870869  0.033657  0.963024  0.739559  0.940630  0.911218  0.471237   \n",
      "\n",
      "          k         l         m         n         o         p         q  \\\n",
      "0  0.073762  0.644564  0.074347  0.961431  0.374813  0.787383  0.431750   \n",
      "1  0.387898  0.770207  0.607748  0.023078  0.345216  0.394744  0.286500   \n",
      "2  0.298188  0.304584  0.727953  0.602061  0.553236  0.972256  0.439532   \n",
      "3  0.782566  0.037819  0.845896  0.358908  0.766832  0.239746  0.418213   \n",
      "4  0.435394  0.085970  0.123525  0.054743  0.188917  0.620572  0.160770   \n",
      "\n",
      "          r         s         t  \n",
      "0  0.828225  0.786857  0.481740  \n",
      "1  0.497793  0.008125  0.698064  \n",
      "2  0.361728  0.544678  0.638010  \n",
      "3  0.514652  0.212315  0.573292  \n",
      "4  0.322543  0.038343  0.889319  \n"
     ]
    }
   ],
   "source": [
    "## Columns can be removed from a DataFrame using the drop method. The drop method is not like the append method for\n",
    "## lists, in that while the append method alters the list, the drop method returns a new DataFrame that does not\n",
    "## point back to the original DataFrame. If you want to permanently drop the column from the DataFrame,\n",
    "## re-initialize the original DataFrame as the output of the drop method, or set the inplace argument of the drop\n",
    "## method equal to True\n",
    "\n",
    "## This method includes an \"axis\" argument; axis=0 referes to rows, while axis=1 refers to columns. Defaults to\n",
    "## axis=0.\n",
    "\n",
    "## Drop a single row\n",
    "frame.drop(2)\n",
    "## Drop multiple rows\n",
    "frame.drop(list(range(3)))\n",
    "## Drop single column\n",
    "frame.drop('a', axis=1)\n",
    "## Drop multiple columns\n",
    "frame.drop(['a', 'b', 'c'], axis=1)\n",
    "## PERMANENTLY drop multiple columns (same as \"frame.drop(['a', 'b', 'c'], axis=1, inplace=True)\")\n",
    "frame = frame.drop(['a', 'b', 'c'], axis=1)\n",
    "print(frame)"
   ]
  },
  {
   "cell_type": "code",
   "execution_count": 175,
   "metadata": {},
   "outputs": [
    {
     "name": "stdout",
     "output_type": "stream",
     "text": [
      "   iter         d         e         f         g         h         i         j  \\\n",
      "0     0  0.483247  0.442975  0.832181  0.362157  0.777904  0.970598  0.852417   \n",
      "1     1  0.111783  0.563349  0.324110  0.838508  0.615184  0.197405  0.967027   \n",
      "3     3  0.992089  0.563488  0.636457  0.730779  0.970794  0.098488  0.626079   \n",
      "4     4  0.870869  0.033657  0.963024  0.739559  0.940630  0.911218  0.471237   \n",
      "\n",
      "          k         l         m         n         o         p         q  \\\n",
      "0  0.073762  0.644564  0.074347  0.961431  0.374813  0.787383  0.431750   \n",
      "1  0.387898  0.770207  0.607748  0.023078  0.345216  0.394744  0.286500   \n",
      "3  0.782566  0.037819  0.845896  0.358908  0.766832  0.239746  0.418213   \n",
      "4  0.435394  0.085970  0.123525  0.054743  0.188917  0.620572  0.160770   \n",
      "\n",
      "          r         s         t  \n",
      "0  0.828225  0.786857  0.481740  \n",
      "1  0.497793  0.008125  0.698064  \n",
      "3  0.514652  0.212315  0.573292  \n",
      "4  0.322543  0.038343  0.889319  \n",
      "\n",
      "\n",
      "   iter         d         e         f         g         h         i         j  \\\n",
      "0     0  0.483247  0.442975  0.832181  0.362157  0.777904  0.970598  0.852417   \n",
      "1     1  0.111783  0.563349  0.324110  0.838508  0.615184  0.197405  0.967027   \n",
      "2     3  0.992089  0.563488  0.636457  0.730779  0.970794  0.098488  0.626079   \n",
      "3     4  0.870869  0.033657  0.963024  0.739559  0.940630  0.911218  0.471237   \n",
      "\n",
      "          k         l         m         n         o         p         q  \\\n",
      "0  0.073762  0.644564  0.074347  0.961431  0.374813  0.787383  0.431750   \n",
      "1  0.387898  0.770207  0.607748  0.023078  0.345216  0.394744  0.286500   \n",
      "2  0.782566  0.037819  0.845896  0.358908  0.766832  0.239746  0.418213   \n",
      "3  0.435394  0.085970  0.123525  0.054743  0.188917  0.620572  0.160770   \n",
      "\n",
      "          r         s         t  \n",
      "0  0.828225  0.786857  0.481740  \n",
      "1  0.497793  0.008125  0.698064  \n",
      "2  0.514652  0.212315  0.573292  \n",
      "3  0.322543  0.038343  0.889319  \n"
     ]
    }
   ],
   "source": [
    "## If I permanently drop a row from a DataFrame...\n",
    "frame.drop(2, inplace=True)\n",
    "print(frame)\n",
    "print('\\n')\n",
    "## ...I can reset the index of the DataFrame using the reset_index method. This method contains an \"inplace\"\n",
    "## argument that defaults to False. Setting this to True alters the original DataFrame. The method also contains a\n",
    "## \"drop\" argument, which defaults to False. When inplace=True and drop=False, the original DataFrame's index is\n",
    "## reset, AND a new column replicating the original index is inserted into the DataFrame. Setting inplace=True and \n",
    "## drop=True resets the index of the original DataFrame without creating a new column.\n",
    "frame.reset_index(inplace=True, drop=True)\n",
    "print(frame)"
   ]
  },
  {
   "cell_type": "code",
   "execution_count": 176,
   "metadata": {},
   "outputs": [
    {
     "name": "stdout",
     "output_type": "stream",
     "text": [
      "   iter         d         e         f         g         h         i         j  \\\n",
      "0     0  0.483247  0.442975  0.832181  0.362157  0.777904  0.970598  0.852417   \n",
      "1     1  0.111783  0.563349  0.324110  0.838508  0.615184  0.197405  0.967027   \n",
      "2     3  0.992089  0.563488  0.636457  0.730779  0.970794  0.098488  0.626079   \n",
      "3     4  0.870869  0.033657  0.963024  0.739559  0.940630  0.911218  0.471237   \n",
      "\n",
      "          k         l         m         n         o         p         q  \\\n",
      "0  0.073762  0.644564  0.074347  0.961431  0.374813  0.787383  0.431750   \n",
      "1  0.387898  0.770207  0.607748  0.023078  0.345216  0.394744  0.286500   \n",
      "2  0.782566  0.037819  0.845896  0.358908  0.766832  0.239746  0.418213   \n",
      "3  0.435394  0.085970  0.123525  0.054743  0.188917  0.620572  0.160770   \n",
      "\n",
      "          r         s         t subject_name  \n",
      "0  0.828225  0.786857  0.481740          Ron  \n",
      "1  0.497793  0.008125  0.698064         Gwen  \n",
      "2  0.514652  0.212315  0.573292      Heather  \n",
      "3  0.322543  0.038343  0.889319       Oswald  \n"
     ]
    }
   ],
   "source": [
    "## The syntax for inserting a new column into a Pandas DataFrame is similar to the insertion of new items into\n",
    "## dicts. New columns have to be the same length as the DataFrame index.\n",
    "frame['subject_name'] = ['Ron', 'Gwen', 'Heather', 'Oswald']\n",
    "print(frame)"
   ]
  },
  {
   "cell_type": "markdown",
   "metadata": {},
   "source": [
    "<h3> Also worth exploring with Pandas: </h3>\n",
    "\n",
    "<ul style=\"list-style-type:disc\">\n",
    "  <li>The \"from_csv\" function in the Pandas model; creates DataFrames straight from .csv files</li>\n",
    "  <li>The \"apply\" methods of both the DataFrame and Series classes</li>\n",
    "  <li>Logical indexing (very difficult, and seen a lot in my and Dr Meyer's code; willing to explain this whenever it comes up).</li>\n",
    "  <li>The \"melt\" method for DataFrames. Difficult to use, but very helpful when iterating over a compound index.</li>\n",
    "</ul>"
   ]
  },
  {
   "cell_type": "code",
   "execution_count": null,
   "metadata": {
    "collapsed": true
   },
   "outputs": [],
   "source": []
  }
 ],
 "metadata": {
  "kernelspec": {
   "display_name": "Python 3",
   "language": "python",
   "name": "python3"
  },
  "language_info": {
   "codemirror_mode": {
    "name": "ipython",
    "version": 3
   },
   "file_extension": ".py",
   "mimetype": "text/x-python",
   "name": "python",
   "nbconvert_exporter": "python",
   "pygments_lexer": "ipython3",
   "version": "3.5.2"
  }
 },
 "nbformat": 4,
 "nbformat_minor": 2
}
